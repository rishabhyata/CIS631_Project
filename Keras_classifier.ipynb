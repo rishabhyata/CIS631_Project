{
 "cells": [
  {
   "cell_type": "code",
   "execution_count": 11,
   "metadata": {},
   "outputs": [
    {
     "name": "stdout",
     "output_type": "stream",
     "text": [
      "   total_confirmed  total_deceased  total_recovered  total_tested  population\n",
      "0            82044            3014            31493        569380    63864405\n",
      "1            24206             559              517         16268     2862427\n",
      "2            62051            2048              517         16268    43053054\n",
      "3                0               0              517         16268       55312\n",
      "4             5383              75              517         16268       77142\n",
      "_________________________________________________________________\n",
      "Layer (type)                 Output Shape              Param #   \n",
      "=================================================================\n",
      "dense_30 (Dense)             (None, 4)                 20        \n",
      "_________________________________________________________________\n",
      "dense_31 (Dense)             (None, 4)                 20        \n",
      "_________________________________________________________________\n",
      "dense_32 (Dense)             (None, 1)                 5         \n",
      "=================================================================\n",
      "Total params: 45\n",
      "Trainable params: 45\n",
      "Non-trainable params: 0\n",
      "_________________________________________________________________\n",
      "None\n",
      "198/198 [==============================] - 0s 2ms/sample - loss: 183466.0903 - acc: 0.1364\n"
     ]
    },
    {
     "name": "stderr",
     "output_type": "stream",
     "text": [
      "/srv/conda/envs/notebook/lib/python3.7/site-packages/sklearn/metrics/classification.py:1437: UndefinedMetricWarning: F-score is ill-defined and being set to 0.0 in labels with no predicted samples.\n",
      "  'precision', 'predicted', average, warn_for)\n",
      "/srv/conda/envs/notebook/lib/python3.7/site-packages/sklearn/metrics/classification.py:1439: UndefinedMetricWarning: F-score is ill-defined and being set to 0.0 in labels with no true samples.\n",
      "  'recall', 'true', average, warn_for)\n"
     ]
    },
    {
     "data": {
      "text/plain": [
       "41.37931034482759"
      ]
     },
     "execution_count": 11,
     "metadata": {},
     "output_type": "execute_result"
    }
   ],
   "source": [
    "#load dataset\n",
    "import pandas as pd \n",
    "df = pd.read_csv(\"cleaned_dataset.csv\")\n",
    "print(df.head())\n",
    "\n",
    "#defining input and target variables\n",
    "features = ['total_confirmed', 'total_recovered', 'total_tested', 'population']\n",
    "import numpy as np\n",
    "X = np.array(df[features])\n",
    "y = np.array(df['total_deceased'])\n",
    "\n",
    "#standardize Input\n",
    "from sklearn.preprocessing import StandardScaler\n",
    "sc = StandardScaler()\n",
    "X = sc.fit_transform(X)\n",
    "\n",
    "#spliting data for training and testing\n",
    "from sklearn.model_selection import train_test_split\n",
    "X_train, X_test, y_train, y_test = train_test_split(X, y, test_size = 0.20, random_state = 42)\n",
    "\n",
    "#building keras model\n",
    "from tensorflow.keras.models import Sequential\n",
    "model = Sequential()\n",
    "\n",
    "#ADDING LAYERS\n",
    "from tensorflow.keras.layers import Dense\n",
    "\n",
    "model.add(Dense(4, input_shape = (len(features),)))\n",
    "\n",
    "#additional hidden layer\n",
    "model.add(Dense(4, activation = 'relu'))\n",
    "\n",
    "#Output layer\n",
    "model.add(Dense(1, activation = 'linear'))\n",
    "\n",
    "#compiling model\n",
    "model.compile(optimizer='adam', loss='binary_crossentropy', metrics=['accuracy'])\n",
    "\n",
    "#model summary to analyze neural network architecture\n",
    "print(model.summary())\n",
    "\n",
    "\n",
    "#fitting\n",
    "model.fit(X_train, y_train)\n",
    "\n",
    "#Predicting\n",
    "y_pred = [round(float(x)) for x in model.predict(X_test)]\n",
    "\n",
    "#Visualize prediction\n",
    "import sklearn.metrics as metrics\n",
    "from sklearn.metrics import f1_score\n",
    "metrics.f1_score(y_test, y_pred, average='weighted', labels=np.unique(y_pred)/2)*100\n",
    "\n",
    "\n",
    "\n"
   ]
  },
  {
   "cell_type": "code",
   "execution_count": null,
   "metadata": {},
   "outputs": [],
   "source": [
    "\n"
   ]
  }
 ],
 "metadata": {
  "kernelspec": {
   "display_name": "Python 3",
   "language": "python",
   "name": "python3"
  },
  "language_info": {
   "codemirror_mode": {
    "name": "ipython",
    "version": 3
   },
   "file_extension": ".py",
   "mimetype": "text/x-python",
   "name": "python",
   "nbconvert_exporter": "python",
   "pygments_lexer": "ipython3",
   "version": "3.7.8"
  }
 },
 "nbformat": 4,
 "nbformat_minor": 4
}
