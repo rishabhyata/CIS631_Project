{
 "cells": [
  {
   "cell_type": "code",
   "execution_count": 2,
   "metadata": {},
   "outputs": [
    {
     "data": {
      "text/html": [
       "<div>\n",
       "<style scoped>\n",
       "    .dataframe tbody tr th:only-of-type {\n",
       "        vertical-align: middle;\n",
       "    }\n",
       "\n",
       "    .dataframe tbody tr th {\n",
       "        vertical-align: top;\n",
       "    }\n",
       "\n",
       "    .dataframe thead th {\n",
       "        text-align: right;\n",
       "    }\n",
       "</style>\n",
       "<table border=\"1\" class=\"dataframe\">\n",
       "  <thead>\n",
       "    <tr style=\"text-align: right;\">\n",
       "      <th></th>\n",
       "      <th>total_confirmed</th>\n",
       "      <th>total_deceased</th>\n",
       "      <th>total_recovered</th>\n",
       "      <th>total_tested</th>\n",
       "      <th>population</th>\n",
       "    </tr>\n",
       "  </thead>\n",
       "  <tbody>\n",
       "    <tr>\n",
       "      <th>0</th>\n",
       "      <td>82044</td>\n",
       "      <td>3014</td>\n",
       "      <td>31493</td>\n",
       "      <td>569380</td>\n",
       "      <td>63864405</td>\n",
       "    </tr>\n",
       "    <tr>\n",
       "      <th>1</th>\n",
       "      <td>24206</td>\n",
       "      <td>559</td>\n",
       "      <td>517</td>\n",
       "      <td>16268</td>\n",
       "      <td>2862427</td>\n",
       "    </tr>\n",
       "    <tr>\n",
       "      <th>2</th>\n",
       "      <td>62051</td>\n",
       "      <td>2048</td>\n",
       "      <td>517</td>\n",
       "      <td>16268</td>\n",
       "      <td>43053054</td>\n",
       "    </tr>\n",
       "    <tr>\n",
       "      <th>3</th>\n",
       "      <td>0</td>\n",
       "      <td>0</td>\n",
       "      <td>517</td>\n",
       "      <td>16268</td>\n",
       "      <td>55312</td>\n",
       "    </tr>\n",
       "    <tr>\n",
       "      <th>4</th>\n",
       "      <td>5383</td>\n",
       "      <td>75</td>\n",
       "      <td>517</td>\n",
       "      <td>16268</td>\n",
       "      <td>77142</td>\n",
       "    </tr>\n",
       "    <tr>\n",
       "      <th>5</th>\n",
       "      <td>12335</td>\n",
       "      <td>303</td>\n",
       "      <td>517</td>\n",
       "      <td>16268</td>\n",
       "      <td>31825295</td>\n",
       "    </tr>\n",
       "    <tr>\n",
       "      <th>6</th>\n",
       "      <td>3</td>\n",
       "      <td>0</td>\n",
       "      <td>517</td>\n",
       "      <td>16268</td>\n",
       "      <td>16086</td>\n",
       "    </tr>\n",
       "    <tr>\n",
       "      <th>7</th>\n",
       "      <td>266</td>\n",
       "      <td>5</td>\n",
       "      <td>517</td>\n",
       "      <td>16268</td>\n",
       "      <td>4400</td>\n",
       "    </tr>\n",
       "    <tr>\n",
       "      <th>8</th>\n",
       "      <td>131</td>\n",
       "      <td>3</td>\n",
       "      <td>517</td>\n",
       "      <td>16268</td>\n",
       "      <td>97118</td>\n",
       "    </tr>\n",
       "    <tr>\n",
       "      <th>9</th>\n",
       "      <td>3634222</td>\n",
       "      <td>114419</td>\n",
       "      <td>281765</td>\n",
       "      <td>7288280</td>\n",
       "      <td>103497661</td>\n",
       "    </tr>\n",
       "  </tbody>\n",
       "</table>\n",
       "</div>"
      ],
      "text/plain": [
       "   total_confirmed  total_deceased  total_recovered  total_tested  population\n",
       "0            82044            3014            31493        569380    63864405\n",
       "1            24206             559              517         16268     2862427\n",
       "2            62051            2048              517         16268    43053054\n",
       "3                0               0              517         16268       55312\n",
       "4             5383              75              517         16268       77142\n",
       "5            12335             303              517         16268    31825295\n",
       "6                3               0              517         16268       16086\n",
       "7              266               5              517         16268        4400\n",
       "8              131               3              517         16268       97118\n",
       "9          3634222          114419           281765       7288280   103497661"
      ]
     },
     "execution_count": 2,
     "metadata": {},
     "output_type": "execute_result"
    }
   ],
   "source": [
    "import numpy as np\n",
    "import pandas as pd\n",
    "from sklearn.model_selection import train_test_split\n",
    "from sklearn.naive_bayes import GaussianNB\n",
    "from sklearn.metrics import accuracy_score\n",
    "import matplotlib.pyplot as plt\n",
    "import seaborn as sns\n",
    "\n",
    "\n",
    "df = pd.read_csv(\"cleaned_dataset.csv\")\n",
    "df.head(10)"
   ]
  },
  {
   "cell_type": "code",
   "execution_count": 4,
   "metadata": {},
   "outputs": [],
   "source": [
    "#Spliting the data\n",
    "df = pd.read_csv(\"cleaned_dataset1.csv\")\n",
    "feature_cols = ['total_confirmed', 'total_deceased', 'total_recovered','total_tested', 'Insulin','BMI', 'DiabetesPedigreeFunction', 'Age', 'Outcome']\n",
    "x = df[feature_cols]\n",
    "y = df.Age\n",
    "\n",
    "x_train, x_test, y_train, y_test = train_test_split(x,y,test_size=0.25, random_state=109)"
   ]
  },
  {
   "cell_type": "code",
   "execution_count": 5,
   "metadata": {},
   "outputs": [
    {
     "data": {
      "text/plain": [
       "GaussianNB(priors=None, var_smoothing=1e-09)"
      ]
     },
     "execution_count": 5,
     "metadata": {},
     "output_type": "execute_result"
    }
   ],
   "source": [
    "#Training\n",
    "\n",
    "model = GaussianNB()\n",
    "model.fit(x_train, y_train)"
   ]
  },
  {
   "cell_type": "code",
   "execution_count": 6,
   "metadata": {},
   "outputs": [
    {
     "data": {
      "text/plain": [
       "array([25, 32, 54, 41, 25, 21, 21, 27, 47, 36, 21, 34, 37, 27, 66, 26, 28,\n",
       "       21, 25, 21, 30, 67, 25, 24, 67, 60, 41, 22, 66, 28, 63, 58, 24, 42,\n",
       "       46, 45, 46, 24, 25, 39, 26, 28, 27, 29, 30, 45, 21, 43, 21, 26, 25,\n",
       "       51, 24, 31, 38, 36, 22, 30, 27, 22, 24, 67, 25, 54, 25, 25, 41, 27,\n",
       "       25, 63, 27, 23, 22, 49, 62, 63, 41, 22, 22, 50, 30, 58, 39, 26, 27,\n",
       "       53, 63, 25, 28, 32, 43, 58, 24, 58, 54, 33, 27, 31, 26, 37, 26, 31,\n",
       "       40, 34, 31, 43, 27, 28, 67, 33, 21, 21, 54, 54, 32, 57, 28, 37, 51,\n",
       "       22, 30, 25, 32, 42, 22, 26, 49, 33, 28, 21, 22, 25, 21, 33, 31, 31,\n",
       "       45, 25, 38, 43, 42, 21, 22, 25, 37, 27, 41, 42, 32, 24, 26, 26, 37,\n",
       "       21, 44, 31, 31, 48, 32, 29, 23, 45, 67, 24, 25, 60, 21, 38, 63, 36,\n",
       "       23, 29, 37, 24, 23, 33, 35, 22, 30, 23, 30, 24, 21, 46, 32, 22, 22,\n",
       "       34, 31, 44, 36, 27])"
      ]
     },
     "execution_count": 6,
     "metadata": {},
     "output_type": "execute_result"
    }
   ],
   "source": [
    "#Prediction test\n",
    "\n",
    "y_predict = model.predict(x_test)\n",
    "y_predict"
   ]
  },
  {
   "cell_type": "code",
   "execution_count": 7,
   "metadata": {},
   "outputs": [
    {
     "data": {
      "text/plain": [
       "92.1875"
      ]
     },
     "execution_count": 7,
     "metadata": {},
     "output_type": "execute_result"
    }
   ],
   "source": [
    "#Evaluation\n",
    "\n",
    "accuracy = accuracy_score(y_test, y_predict)*100\n",
    "accuracy"
   ]
  },
  {
   "cell_type": "code",
   "execution_count": 6,
   "metadata": {},
   "outputs": [
    {
     "data": {
      "image/png": "[encoded data removed]",
      "text/plain": [
       "<Figure size 432x288 with 1 Axes>"
      ]
     },
     "metadata": {
      "needs_background": "light"
     },
     "output_type": "display_data"
    }
   ],
   "source": [
    "import pandas as pd\n",
    "\n",
    "import numpy as np\n",
    "\n",
    "import matplotlib.pyplot as plot\n",
    "\n",
    " \n",
    "# Scatter plot: total confirmed cases vs total deceased\n",
    "data = pd.read_csv(\"cleaned_dataset.csv\")\n",
    "\n",
    "# Load data into pandas DataFrame       \n",
    "\n",
    "dataFrame = pd.DataFrame(data, columns=['total_confirmed','total_deceased','total_recovered','total_tested','population']);\n",
    "\n",
    "\n",
    "# Draw a scatter plot\n",
    "\n",
    "dataFrame.plot.scatter(x='total_confirmed', y='total_deceased', title= \"Scatter plot between two columns of a multi-column DataFrame\");\n",
    "\n",
    "plot.show(block=True);"
   ]
  },
  {
   "cell_type": "code",
   "execution_count": 7,
   "metadata": {},
   "outputs": [
    {
     "data": {
      "image/png": "[encoded data removed]",
      "text/plain": [
       "<Figure size 432x288 with 1 Axes>"
      ]
     },
     "metadata": {
      "needs_background": "light"
     },
     "output_type": "display_data"
    }
   ],
   "source": [
    "import pandas as pd\n",
    "\n",
    "import numpy as np\n",
    "\n",
    "import matplotlib.pyplot as plot\n",
    "\n",
    " \n",
    "# Scatter plot: population vs total confirmed\n",
    "data = pd.read_csv(\"cleaned_dataset.csv\")\n",
    "\n",
    "# Load data into pandas DataFrame       \n",
    "\n",
    "dataFrame = pd.DataFrame(data, columns=['total_confirmed','total_deceased','total_recovered','total_tested','population']);\n",
    "\n",
    "\n",
    "# Draw a scatter plot\n",
    "\n",
    "dataFrame.plot.scatter(x='population', y='total_confirmed', title= \"Scatter plot between two columns of a multi-column DataFrame\");\n",
    "\n",
    "plot.show(block=True);"
   ]
  },
  {
   "cell_type": "code",
   "execution_count": null,
   "metadata": {},
   "outputs": [],
   "source": []
  }
 ],
 "metadata": {
  "kernelspec": {
   "display_name": "Python 3",
   "language": "python",
   "name": "python3"
  },
  "language_info": {
   "codemirror_mode": {
    "name": "ipython",
    "version": 3
   },
   "file_extension": ".py",
   "mimetype": "text/x-python",
   "name": "python",
   "nbconvert_exporter": "python",
   "pygments_lexer": "ipython3",
   "version": "3.7.8"
  }
 },
 "nbformat": 4,
 "nbformat_minor": 4
}
